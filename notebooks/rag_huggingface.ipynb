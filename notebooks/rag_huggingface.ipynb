{
 "cells": [
  {
   "cell_type": "code",
   "execution_count": 1,
   "metadata": {},
   "outputs": [],
   "source": [
    "! pip install -q torch transformers accelerate transformers sentence-transformers faiss-cpu"
   ]
  },
  {
   "cell_type": "code",
   "execution_count": 2,
   "metadata": {},
   "outputs": [],
   "source": [
    "! pip install -q langchain langchain-community jq"
   ]
  },
  {
   "cell_type": "code",
   "execution_count": 19,
   "metadata": {},
   "outputs": [
    {
     "data": {
      "text/plain": [
       "[Document(metadata={'producer': 'Microsoft® Word for Microsoft 365', 'creator': 'Microsoft® Word for Microsoft 365', 'creationdate': '2025-02-23T04:20:41-05:00', 'author': 'Zoey Le', 'moddate': '2025-02-23T04:20:41-05:00', 'source': '../app/pdfs\\\\bio_chemistry.pdf', 'total_pages': 5, 'page': 0, 'page_label': '1'}, page_content='Modified Guide RNAs  \\n1. Document ID : US 20250059532 A1  \\n2. Date Published : 2025-02-20 \\n3. Inventor Information  \\na. Smith; Amy Madison Rhoden   \\nb. Morrissey; David V.   \\nc. Strapps; Walter  \\n4. Assignee Information : Intellia Therapeutics, Inc.  \\n5. Abstract : This disclosure relates to modified single and dual guide RNAs having \\nimproved in vitro and in vivo activity in gene editing methods.  \\n6. Summary :  \\na. This disclosure relates to the field of gene editing using CRISPR/Cas systems, a \\npart of the prokaryotic immune system that recognizes and cuts exogenous \\ngenetic elements. The CRISPR/Cas system relies on a single nuclease, termed \\nCRISPR-associated protein 9 (Cas9), which induces site -specific breaks in DNA. \\nCas9 is guided to specific DNA sequences by small RNA molecules termed \\nguide RNA (gRNA). Guide RNA comprises trRNA (also known as tracrRNA) and \\ncrisprRNA (crRNA). The trRNA and crRNA may be contained wit hin a single \\nguide RNA (sgRNA) or in two separate RNA molecules of a dual guide RNA \\n(dgRNA). Cas9 in combination with trRNA and crRNA or an sgRNA is termed the \\nCas9 ribonucleoprotein complex (RNP).  \\nb. Oligonucleotides, and in particular RNA, are sometimes degraded in cells and \\nin serum by endonuclease or exonuclease cleavage. Improved methods and \\ncompositions for preventing such degradation, improving stability of gRNAs and \\nenhancing gene editing effici ency is desired, especially for therapeutic \\napplications.  \\nc. In some embodiments, therapeutic genome editing tools are provided \\ncomprising modified guide RNAs. The modified guide RNAs described herein \\nmay improve the stability of the guide RNA and the guide RNA/Cas9 complex \\nand improve the activity of Cas9 (e.g., Sp yCas9 and equivalents) to cleave \\ntarget DNA. In some embodiments, the guide RNA is an sgRNA. In some \\nembodiments, the guide RNA is a dgRNA. In some embodiments, the guide RNA \\nis a tracrRNA. In some embodiments, the guide RNA is a crRNA.'),\n",
       " Document(metadata={'producer': 'Microsoft® Word for Microsoft 365', 'creator': 'Microsoft® Word for Microsoft 365', 'creationdate': '2025-02-23T04:20:41-05:00', 'author': 'Zoey Le', 'moddate': '2025-02-23T04:20:41-05:00', 'source': '../app/pdfs\\\\bio_chemistry.pdf', 'total_pages': 5, 'page': 1, 'page_label': '2'}, page_content='MEDIA AND METHODS FOR MAKING AND MAINTAINING PORCINE PLURIPOTENT STEM CELLS  \\n1. Document ID : US 20250059517 A1  \\n2. Date Published : 2025-02-20 \\n3. Inventor Information  \\na. Sproull; Abigail  \\nb. Gafni; Ohad  \\n4. Abstract : The present disclosure relates to methods for making porcine pluripotent \\nstem cells. The present disclosure also relates to methods for gene -editing porcine \\npluripotent stem cells, generating animals from porcine pluripotent stem cells, and \\nmaintaining por cine pluripotent stem cells in culture over many passages. The present \\ndisclosure further relates to methods for making porcine induced pluripotent stem \\ncells.  \\n5. BACKGROUND : Genetically modified pigs can be created through the process of \\ncloning or somatic cell nuclear transfer (SCNT) in which a cell is edited and then the \\nwhole cell or just its nucleus is fused into an enucleated zygote to then develop into an \\nembryo proper.  Cloning and gene editing can be done with fibroblast lines, which can \\nbe edited once before needing rejuvenation; thus, the cost to create a gene edited \\nanimal can be significantly higher when multiple edits need to be made. Stem cells \\ncan be used in rege nerative medicine and cell therapy space because, e.g., of their \\nability to differentiate into various cell and tissue types. They can also desirable due to \\ntheir longevity and capacity for multiple genetic edits, thereby reducing cost for animal \\nmodels of  disease and xenotransplantation. There exists need for new and improved \\nmethods and compos itions for the development of pluripotent porcine stem cell lines.'),\n",
       " Document(metadata={'producer': 'Microsoft® Word for Microsoft 365', 'creator': 'Microsoft® Word for Microsoft 365', 'creationdate': '2025-02-23T04:20:41-05:00', 'author': 'Zoey Le', 'moddate': '2025-02-23T04:20:41-05:00', 'source': '../app/pdfs\\\\bio_chemistry.pdf', 'total_pages': 5, 'page': 2, 'page_label': '3'}, page_content=\"SEQUENCES AND PROMOTERS FOR USE IN PLANT CELLS AND METHODS OF MAKING AND \\nUSING SUCH SEQUENCES  \\n1. Document ID : US 20240352473 A1  \\n2. Date Published : 2024-10-24 \\n3. Inventor Information : \\na. Avisar; Dror  \\nb. Azulay; Shelly  \\n4. Abstract: The present disclosure is directed to a novel sequence constructed from viral \\nelements for use as a transgenic promoter; for example, in transgenic plants. More \\nspecifically, the present disclosure is directed to a chimeric transgenic promoter sequence \\ncomprising a portion derived from the Figwort Mosaic Vims (FMV/FiMV) genome and a \\nportion derived from the Cassava Vein Mosaic Virus (CsVMV) genome. The present \\ndisclosure provides methods and compositions for the making and using such a transgenic \\npromoter.  \\n5. FIELD OF THE INVENTION : The present invention relates in general to nucleic acid \\nsequences which may serve as promoters for transgenic expression. More specifically, the \\ninvention relates to sequence elements derived from viral promoters and the use of \\ncombinations of these seque nce elements to express coding sequences or functional RNAs \\nin plants.  \\n6. BACKGROUND :  \\na. One of the goals of plant genetic engineering is to produce plants with \\nergonomically preferable characteristics or traits, and for this aim -enhancing or \\nreducing the expression level of a gene product (or products) or of functional RNAs. \\nSuch changes in e xpression commonly require the use of a non -endogenous \\npromoter.  \\nb. Whereas for some plants and crops there is a wide set of promoters available for \\ntransgenic use, others, such as  Eucalyptus,  have but a few non -endogenous \\npromoters which are well -characterized to be functional, even for use for \\nconstitutive transgenic expression. Thus, constructing promoters for such crops is \\nvaluable.  \\n7. SUMMARY : \\na. In one aspect, the present disclosure provides (I) a nucleic acid sequence which \\ncomprises (i) a transcriptional regulatory element derived from the sub -genomic \\ntranscript (Sgt) promoter of the Figwort Mosaic Virus (FMV, FiMV), which does not \\ninclude the p romoter's TATA portion, and a (ii) transcription regulatory element \\nderived from the genome of Casava Vein Mosaic Virus (CsVMV) promoter which \\ndoes include a TATA portion, or (II) a nucleic acid sequence that comprises \\nsequences substantially similar to th e (i) and (ii) sequences described above.  \\nb. In an additional aspect, the present disclosure provides bacteria -clone propagated \\nplasmids which include the nucleic acid sequence described above, and which can \\nfunction as expression vectors in plant cells.  \\nc. The present disclosure also provides a transformed plant cell having in its genome \\nthe nucleic acid sequence described above, as well as transgenic plants or seeds \\nincluding such plant cells.\"),\n",
       " Document(metadata={'producer': 'Microsoft® Word for Microsoft 365', 'creator': 'Microsoft® Word for Microsoft 365', 'creationdate': '2025-02-23T04:20:41-05:00', 'author': 'Zoey Le', 'moddate': '2025-02-23T04:20:41-05:00', 'source': '../app/pdfs\\\\bio_chemistry.pdf', 'total_pages': 5, 'page': 3, 'page_label': '4'}, page_content=\"COMPOSITIONS AND METHODS FOR ENHANCING ADOPTIVE T CELL THERAPEUTICS  \\n1. Document ID : US 20240270802 A1  \\n2. Date Published : 2024-08-15 \\n3. Inventor Information  \\na. ROYBAL; Kole  \\nb. GARCIA; Julie  \\nc. ZHU; Iowis  \\nd. CHOI; Jaehyuk  \\ne. DANIELS; Jay  \\n4. Abstract: The present disclosure relates generally to compositions and methods for \\nimproving T cell therapy. In particular, the disclosure provides polypeptides and \\nrecombinant nucleic acid constructs and/or recombinant nucleic acids encoding \\npolypeptides having mut ations capable of altering T cell signaling, cytokine production, \\nand/or in vivo persistence in tumors of therapeutic T cells comprising the mutation. The T \\ncell signaling can be by NFAT, NF -κB and/or AP -1 pathways. The disclosure also provides \\nvectors and  cells including the polypeptides and/or recombinant nucleic acid constructs \\nand/or recombinant nucleic acids of the disclosure as well as methods of preparing a T cell \\nfor use in cell therapy, and methods of identifying a mutation useful for improving T c ell \\ntherapy.  \\n5. BACKGROUND  \\na. Adoptive T cell therapies, including chimeric antigen receptor (CAR) T cells, have \\nrevolutionized cancer therapy. However, impressive responses are limited to a \\nsubset of patients with hematological cancers and have not been unlocked in \\npatients with solid  tumors, which represent 90% of adult cancers. In both \\ntreatment -resistant hematological and solid cancers, adoptive T cell therapy is \\nlimited by a complex combination of factors including fitness of engineered T cells \\nin tumors, T cell exhaustion, poor in  vivo persistence and immunosuppressive \\nenvironmental factors. Despite significant recent advances, rational design has \\nfailed to overcome the problems associated with such factors.  \\nb. Another approach to identify modifications that improve T cell function in vitro and \\nin vivo, besides rational design, is unbiased screening. For example, the vast \\nmajority of screening efforts, have focused on genome -scale or genome -wide \\nalterations which  modify expression of endogenous wild -type genes via CRISPR -\\nCas9 or short hairpin RNA (shRNA) or cDNA overexpression.  \\nc. Chimeric antigen receptors (CARs) are synthetic receptors that include an antigen \\nspecific extracellular single chain variable fragment (scFv) attached to a flexible \\nlinker (hinge) region, transmembrane domain, and intracellular signaling domains. \\nThe intracellular portion of the receptor consists of T cell signaling domains such as \\n41BB, CD28 and CD3zeta, designed to mimic T cell receptor (TCR) stimulation and \\nthe immunological synapse upon engagement with the antigen specified by the \\nscFv. CAR constructs do not require antigen presentation by MHC molecules, and \\ntherefore have been used to effectively redirect a patient's own T cells against a \\ntumor specific cell surface antigen. To date, five CD19 targeted CAR -T cell therapies \\nhave been approved by the FDA  for use against hematological B cell cancers. While\"),\n",
       " Document(metadata={'producer': 'Microsoft® Word for Microsoft 365', 'creator': 'Microsoft® Word for Microsoft 365', 'creationdate': '2025-02-23T04:20:41-05:00', 'author': 'Zoey Le', 'moddate': '2025-02-23T04:20:41-05:00', 'source': '../app/pdfs\\\\bio_chemistry.pdf', 'total_pages': 5, 'page': 4, 'page_label': '5'}, page_content=\"these therapies have proven highly effective in refractory B cell malignancies, CAR -T \\ncell therapies have yet to provide robust, long -term efficacy against solid tumors. In \\nthe solid tumor setting, CAR -T cells can become exhausted and struggle to \\nproliferate and perform effector function, ultimately resulting in the inability to \\ncontrol tumor growth or prevent relapse. Therefore, to create effective targeted \\ncellular therapies against solid tumors the proliferative capacity, persistence and \\neffector functio n of CAR-T cells needs to be improved.  \\nd. An avenue under investigation is genetically modifying CAR -T cells to improve their \\nfunctionality in solid tumors. A recent case study described a chronic lymphocytic \\nleukemia (CLL) patient who experienced a delayed yet complete response after \\ntreatment wi th a CD19 CAR -T cell therapy. It was later discovered that, within a \\nsingle T cell clone, the CD19 CAR cassette had integrated into the one allele of TET2, \\na known T cell lymphoma tumor suppressor, rendering it nonfunctional. \\nInterestingly, the second TET2  allele of this patient was also mutated, resulting in a \\nlack of function of TET2 in the CD19 CAR -T cells dosed to this patient. This single \\nTET2 knockout CAR -T cell clone exhibited altered T cell differentiation and improved \\noverall effector function. Ult imately, this clone expanded to become a majority of \\nthe CAR-T cell population, and mediated a complete response against the patient's \\nrelapsed CLL. In a second example, a similar complete response was mediated in a \\npatient when the CD22 CAR cassette integ rated into the T cell lymphoma tumor \\nsuppressor CBL. These case studies demonstrate that genetic knockout of T cell \\nlymphoma tumor suppressors, such as TET2 and CBL, can have remarkable \\nbeneficial effects on CAR -T cell therapies. In preclinical studies, ge nome wide \\nknockout assays have revealed genes, such as REGNASE, that upon knockout \\nimprove T cell fitness and anti -tumor efficacy in vivo. Additionally, other studies \\nhave found that the knockout of genes related to T cell exhaustion and memory \\nformation, such as the NR4A family of genes, can result in improved and prolonged \\nCAR-T cell response to tumors.  \\ne. While these examples indicate that CAR -T cell functionality can be improved \\nthrough genetic manipulation, particularly through manipulation of tumor \\nsuppressor genes, these studies are often extremely broad in their scope (examining \\nthe entire genome) and focus solely on the effect of constitutive genetic knockouts. \\nSomatic single nucleotide variant (SSNV) mutations, translocations and gene \\ndeletions that naturally arise in cancers offer biologically rational candidates for \\ngenetic manipulation alongside CA R expression.  \\nf. There remains a need in the art for alternative solutions to address the significant \\nunmet need for effective adoptive T cell therapies and for enhancing engineered T \\ncell fitness.\")]"
      ]
     },
     "execution_count": 19,
     "metadata": {},
     "output_type": "execute_result"
    }
   ],
   "source": [
    "from langchain_community.document_loaders import PyPDFLoader\n",
    "import os\n",
    "\n",
    "\n",
    "# loop through PDFs and load them with PyPDFLoader\n",
    "file_path = \"../app/pdfs\"\n",
    "docs = []\n",
    "for file in os.listdir(file_path):\n",
    "    if file.endswith('.pdf'):\n",
    "        pdf_path = os.path.join(file_path, file)\n",
    "        loader = PyPDFLoader(pdf_path)\n",
    "        docs.extend(loader.load())\n",
    "\n",
    "docs\n",
    "\n"
   ]
  },
  {
   "cell_type": "code",
   "execution_count": 20,
   "metadata": {},
   "outputs": [
    {
     "data": {
      "text/plain": [
       "\"SEQUENCES AND PROMOTERS FOR USE IN PLANT CELLS AND METHODS OF MAKING AND \\nUSING SUCH SEQUENCES  \\n1. Document ID : US 20240352473 A1  \\n2. Date Published : 2024-10-24 \\n3. Inventor Information : \\na. Avisar; Dror  \\nb. Azulay; Shelly  \\n4. Abstract: The present disclosure is directed to a novel sequence constructed from viral \\nelements for use as a transgenic promoter; for example, in transgenic plants. More \\nspecifically, the present disclosure is directed to a chimeric transgenic promoter sequence \\ncomprising a portion derived from the Figwort Mosaic Vims (FMV/FiMV) genome and a \\nportion derived from the Cassava Vein Mosaic Virus (CsVMV) genome. The present \\ndisclosure provides methods and compositions for the making and using such a transgenic \\npromoter.  \\n5. FIELD OF THE INVENTION : The present invention relates in general to nucleic acid \\nsequences which may serve as promoters for transgenic expression. More specifically, the \\ninvention relates to sequence elements derived from viral promoters and the use of \\ncombinations of these seque nce elements to express coding sequences or functional RNAs \\nin plants.  \\n6. BACKGROUND :  \\na. One of the goals of plant genetic engineering is to produce plants with \\nergonomically preferable characteristics or traits, and for this aim -enhancing or \\nreducing the expression level of a gene product (or products) or of functional RNAs. \\nSuch changes in e xpression commonly require the use of a non -endogenous \\npromoter.  \\nb. Whereas for some plants and crops there is a wide set of promoters available for \\ntransgenic use, others, such as  Eucalyptus,  have but a few non -endogenous \\npromoters which are well -characterized to be functional, even for use for \\nconstitutive transgenic expression. Thus, constructing promoters for such crops is \\nvaluable.  \\n7. SUMMARY : \\na. In one aspect, the present disclosure provides (I) a nucleic acid sequence which \\ncomprises (i) a transcriptional regulatory element derived from the sub -genomic \\ntranscript (Sgt) promoter of the Figwort Mosaic Virus (FMV, FiMV), which does not \\ninclude the p romoter's TATA portion, and a (ii) transcription regulatory element \\nderived from the genome of Casava Vein Mosaic Virus (CsVMV) promoter which \\ndoes include a TATA portion, or (II) a nucleic acid sequence that comprises \\nsequences substantially similar to th e (i) and (ii) sequences described above.  \\nb. In an additional aspect, the present disclosure provides bacteria -clone propagated \\nplasmids which include the nucleic acid sequence described above, and which can \\nfunction as expression vectors in plant cells.  \\nc. The present disclosure also provides a transformed plant cell having in its genome \\nthe nucleic acid sequence described above, as well as transgenic plants or seeds \\nincluding such plant cells.\""
      ]
     },
     "execution_count": 20,
     "metadata": {},
     "output_type": "execute_result"
    }
   ],
   "source": [
    "# inspect the content of a document\n",
    "docs[2].page_content"
   ]
  },
  {
   "cell_type": "code",
   "execution_count": 21,
   "metadata": {},
   "outputs": [],
   "source": [
    "from langchain.text_splitter import RecursiveCharacterTextSplitter\n",
    "\n",
    "# split documents into smaller chunks\n",
    "splitter = RecursiveCharacterTextSplitter(chunk_size=800, chunk_overlap=0)\n",
    "\n",
    "chunked_docs = splitter.split_documents(docs)"
   ]
  },
  {
   "cell_type": "code",
   "execution_count": 22,
   "metadata": {},
   "outputs": [
    {
     "data": {
      "text/plain": [
       "[Document(metadata={'producer': 'Microsoft® Word for Microsoft 365', 'creator': 'Microsoft® Word for Microsoft 365', 'creationdate': '2025-02-23T04:20:41-05:00', 'author': 'Zoey Le', 'moddate': '2025-02-23T04:20:41-05:00', 'source': '../app/pdfs\\\\bio_chemistry.pdf', 'total_pages': 5, 'page': 0, 'page_label': '1'}, page_content='Modified Guide RNAs  \\n1. Document ID : US 20250059532 A1  \\n2. Date Published : 2025-02-20 \\n3. Inventor Information  \\na. Smith; Amy Madison Rhoden   \\nb. Morrissey; David V.   \\nc. Strapps; Walter  \\n4. Assignee Information : Intellia Therapeutics, Inc.  \\n5. Abstract : This disclosure relates to modified single and dual guide RNAs having \\nimproved in vitro and in vivo activity in gene editing methods.  \\n6. Summary :  \\na. This disclosure relates to the field of gene editing using CRISPR/Cas systems, a \\npart of the prokaryotic immune system that recognizes and cuts exogenous \\ngenetic elements. The CRISPR/Cas system relies on a single nuclease, termed \\nCRISPR-associated protein 9 (Cas9), which induces site -specific breaks in DNA.'),\n",
       " Document(metadata={'producer': 'Microsoft® Word for Microsoft 365', 'creator': 'Microsoft® Word for Microsoft 365', 'creationdate': '2025-02-23T04:20:41-05:00', 'author': 'Zoey Le', 'moddate': '2025-02-23T04:20:41-05:00', 'source': '../app/pdfs\\\\bio_chemistry.pdf', 'total_pages': 5, 'page': 0, 'page_label': '1'}, page_content='Cas9 is guided to specific DNA sequences by small RNA molecules termed \\nguide RNA (gRNA). Guide RNA comprises trRNA (also known as tracrRNA) and \\ncrisprRNA (crRNA). The trRNA and crRNA may be contained wit hin a single \\nguide RNA (sgRNA) or in two separate RNA molecules of a dual guide RNA \\n(dgRNA). Cas9 in combination with trRNA and crRNA or an sgRNA is termed the \\nCas9 ribonucleoprotein complex (RNP).  \\nb. Oligonucleotides, and in particular RNA, are sometimes degraded in cells and \\nin serum by endonuclease or exonuclease cleavage. Improved methods and \\ncompositions for preventing such degradation, improving stability of gRNAs and \\nenhancing gene editing effici ency is desired, especially for therapeutic \\napplications.'),\n",
       " Document(metadata={'producer': 'Microsoft® Word for Microsoft 365', 'creator': 'Microsoft® Word for Microsoft 365', 'creationdate': '2025-02-23T04:20:41-05:00', 'author': 'Zoey Le', 'moddate': '2025-02-23T04:20:41-05:00', 'source': '../app/pdfs\\\\bio_chemistry.pdf', 'total_pages': 5, 'page': 0, 'page_label': '1'}, page_content='c. In some embodiments, therapeutic genome editing tools are provided \\ncomprising modified guide RNAs. The modified guide RNAs described herein \\nmay improve the stability of the guide RNA and the guide RNA/Cas9 complex \\nand improve the activity of Cas9 (e.g., Sp yCas9 and equivalents) to cleave \\ntarget DNA. In some embodiments, the guide RNA is an sgRNA. In some \\nembodiments, the guide RNA is a dgRNA. In some embodiments, the guide RNA \\nis a tracrRNA. In some embodiments, the guide RNA is a crRNA.'),\n",
       " Document(metadata={'producer': 'Microsoft® Word for Microsoft 365', 'creator': 'Microsoft® Word for Microsoft 365', 'creationdate': '2025-02-23T04:20:41-05:00', 'author': 'Zoey Le', 'moddate': '2025-02-23T04:20:41-05:00', 'source': '../app/pdfs\\\\bio_chemistry.pdf', 'total_pages': 5, 'page': 1, 'page_label': '2'}, page_content='MEDIA AND METHODS FOR MAKING AND MAINTAINING PORCINE PLURIPOTENT STEM CELLS  \\n1. Document ID : US 20250059517 A1  \\n2. Date Published : 2025-02-20 \\n3. Inventor Information  \\na. Sproull; Abigail  \\nb. Gafni; Ohad  \\n4. Abstract : The present disclosure relates to methods for making porcine pluripotent \\nstem cells. The present disclosure also relates to methods for gene -editing porcine \\npluripotent stem cells, generating animals from porcine pluripotent stem cells, and \\nmaintaining por cine pluripotent stem cells in culture over many passages. The present \\ndisclosure further relates to methods for making porcine induced pluripotent stem \\ncells.  \\n5. BACKGROUND : Genetically modified pigs can be created through the process of'),\n",
       " Document(metadata={'producer': 'Microsoft® Word for Microsoft 365', 'creator': 'Microsoft® Word for Microsoft 365', 'creationdate': '2025-02-23T04:20:41-05:00', 'author': 'Zoey Le', 'moddate': '2025-02-23T04:20:41-05:00', 'source': '../app/pdfs\\\\bio_chemistry.pdf', 'total_pages': 5, 'page': 1, 'page_label': '2'}, page_content='cloning or somatic cell nuclear transfer (SCNT) in which a cell is edited and then the \\nwhole cell or just its nucleus is fused into an enucleated zygote to then develop into an \\nembryo proper.  Cloning and gene editing can be done with fibroblast lines, which can \\nbe edited once before needing rejuvenation; thus, the cost to create a gene edited \\nanimal can be significantly higher when multiple edits need to be made. Stem cells \\ncan be used in rege nerative medicine and cell therapy space because, e.g., of their \\nability to differentiate into various cell and tissue types. They can also desirable due to \\ntheir longevity and capacity for multiple genetic edits, thereby reducing cost for animal \\nmodels of  disease and xenotransplantation. There exists need for new and improved'),\n",
       " Document(metadata={'producer': 'Microsoft® Word for Microsoft 365', 'creator': 'Microsoft® Word for Microsoft 365', 'creationdate': '2025-02-23T04:20:41-05:00', 'author': 'Zoey Le', 'moddate': '2025-02-23T04:20:41-05:00', 'source': '../app/pdfs\\\\bio_chemistry.pdf', 'total_pages': 5, 'page': 1, 'page_label': '2'}, page_content='methods and compos itions for the development of pluripotent porcine stem cell lines.'),\n",
       " Document(metadata={'producer': 'Microsoft® Word for Microsoft 365', 'creator': 'Microsoft® Word for Microsoft 365', 'creationdate': '2025-02-23T04:20:41-05:00', 'author': 'Zoey Le', 'moddate': '2025-02-23T04:20:41-05:00', 'source': '../app/pdfs\\\\bio_chemistry.pdf', 'total_pages': 5, 'page': 2, 'page_label': '3'}, page_content='SEQUENCES AND PROMOTERS FOR USE IN PLANT CELLS AND METHODS OF MAKING AND \\nUSING SUCH SEQUENCES  \\n1. Document ID : US 20240352473 A1  \\n2. Date Published : 2024-10-24 \\n3. Inventor Information : \\na. Avisar; Dror  \\nb. Azulay; Shelly  \\n4. Abstract: The present disclosure is directed to a novel sequence constructed from viral \\nelements for use as a transgenic promoter; for example, in transgenic plants. More \\nspecifically, the present disclosure is directed to a chimeric transgenic promoter sequence \\ncomprising a portion derived from the Figwort Mosaic Vims (FMV/FiMV) genome and a \\nportion derived from the Cassava Vein Mosaic Virus (CsVMV) genome. The present \\ndisclosure provides methods and compositions for the making and using such a transgenic \\npromoter.'),\n",
       " Document(metadata={'producer': 'Microsoft® Word for Microsoft 365', 'creator': 'Microsoft® Word for Microsoft 365', 'creationdate': '2025-02-23T04:20:41-05:00', 'author': 'Zoey Le', 'moddate': '2025-02-23T04:20:41-05:00', 'source': '../app/pdfs\\\\bio_chemistry.pdf', 'total_pages': 5, 'page': 2, 'page_label': '3'}, page_content='5. FIELD OF THE INVENTION : The present invention relates in general to nucleic acid \\nsequences which may serve as promoters for transgenic expression. More specifically, the \\ninvention relates to sequence elements derived from viral promoters and the use of \\ncombinations of these seque nce elements to express coding sequences or functional RNAs \\nin plants.  \\n6. BACKGROUND :  \\na. One of the goals of plant genetic engineering is to produce plants with \\nergonomically preferable characteristics or traits, and for this aim -enhancing or \\nreducing the expression level of a gene product (or products) or of functional RNAs. \\nSuch changes in e xpression commonly require the use of a non -endogenous \\npromoter.  \\nb. Whereas for some plants and crops there is a wide set of promoters available for'),\n",
       " Document(metadata={'producer': 'Microsoft® Word for Microsoft 365', 'creator': 'Microsoft® Word for Microsoft 365', 'creationdate': '2025-02-23T04:20:41-05:00', 'author': 'Zoey Le', 'moddate': '2025-02-23T04:20:41-05:00', 'source': '../app/pdfs\\\\bio_chemistry.pdf', 'total_pages': 5, 'page': 2, 'page_label': '3'}, page_content=\"transgenic use, others, such as  Eucalyptus,  have but a few non -endogenous \\npromoters which are well -characterized to be functional, even for use for \\nconstitutive transgenic expression. Thus, constructing promoters for such crops is \\nvaluable.  \\n7. SUMMARY : \\na. In one aspect, the present disclosure provides (I) a nucleic acid sequence which \\ncomprises (i) a transcriptional regulatory element derived from the sub -genomic \\ntranscript (Sgt) promoter of the Figwort Mosaic Virus (FMV, FiMV), which does not \\ninclude the p romoter's TATA portion, and a (ii) transcription regulatory element \\nderived from the genome of Casava Vein Mosaic Virus (CsVMV) promoter which \\ndoes include a TATA portion, or (II) a nucleic acid sequence that comprises\"),\n",
       " Document(metadata={'producer': 'Microsoft® Word for Microsoft 365', 'creator': 'Microsoft® Word for Microsoft 365', 'creationdate': '2025-02-23T04:20:41-05:00', 'author': 'Zoey Le', 'moddate': '2025-02-23T04:20:41-05:00', 'source': '../app/pdfs\\\\bio_chemistry.pdf', 'total_pages': 5, 'page': 2, 'page_label': '3'}, page_content='sequences substantially similar to th e (i) and (ii) sequences described above.  \\nb. In an additional aspect, the present disclosure provides bacteria -clone propagated \\nplasmids which include the nucleic acid sequence described above, and which can \\nfunction as expression vectors in plant cells.  \\nc. The present disclosure also provides a transformed plant cell having in its genome \\nthe nucleic acid sequence described above, as well as transgenic plants or seeds \\nincluding such plant cells.'),\n",
       " Document(metadata={'producer': 'Microsoft® Word for Microsoft 365', 'creator': 'Microsoft® Word for Microsoft 365', 'creationdate': '2025-02-23T04:20:41-05:00', 'author': 'Zoey Le', 'moddate': '2025-02-23T04:20:41-05:00', 'source': '../app/pdfs\\\\bio_chemistry.pdf', 'total_pages': 5, 'page': 3, 'page_label': '4'}, page_content='COMPOSITIONS AND METHODS FOR ENHANCING ADOPTIVE T CELL THERAPEUTICS  \\n1. Document ID : US 20240270802 A1  \\n2. Date Published : 2024-08-15 \\n3. Inventor Information  \\na. ROYBAL; Kole  \\nb. GARCIA; Julie  \\nc. ZHU; Iowis  \\nd. CHOI; Jaehyuk  \\ne. DANIELS; Jay  \\n4. Abstract: The present disclosure relates generally to compositions and methods for \\nimproving T cell therapy. In particular, the disclosure provides polypeptides and \\nrecombinant nucleic acid constructs and/or recombinant nucleic acids encoding \\npolypeptides having mut ations capable of altering T cell signaling, cytokine production, \\nand/or in vivo persistence in tumors of therapeutic T cells comprising the mutation. The T \\ncell signaling can be by NFAT, NF -κB and/or AP -1 pathways. The disclosure also provides'),\n",
       " Document(metadata={'producer': 'Microsoft® Word for Microsoft 365', 'creator': 'Microsoft® Word for Microsoft 365', 'creationdate': '2025-02-23T04:20:41-05:00', 'author': 'Zoey Le', 'moddate': '2025-02-23T04:20:41-05:00', 'source': '../app/pdfs\\\\bio_chemistry.pdf', 'total_pages': 5, 'page': 3, 'page_label': '4'}, page_content='vectors and  cells including the polypeptides and/or recombinant nucleic acid constructs \\nand/or recombinant nucleic acids of the disclosure as well as methods of preparing a T cell \\nfor use in cell therapy, and methods of identifying a mutation useful for improving T c ell \\ntherapy.  \\n5. BACKGROUND  \\na. Adoptive T cell therapies, including chimeric antigen receptor (CAR) T cells, have \\nrevolutionized cancer therapy. However, impressive responses are limited to a \\nsubset of patients with hematological cancers and have not been unlocked in \\npatients with solid  tumors, which represent 90% of adult cancers. In both \\ntreatment -resistant hematological and solid cancers, adoptive T cell therapy is \\nlimited by a complex combination of factors including fitness of engineered T cells'),\n",
       " Document(metadata={'producer': 'Microsoft® Word for Microsoft 365', 'creator': 'Microsoft® Word for Microsoft 365', 'creationdate': '2025-02-23T04:20:41-05:00', 'author': 'Zoey Le', 'moddate': '2025-02-23T04:20:41-05:00', 'source': '../app/pdfs\\\\bio_chemistry.pdf', 'total_pages': 5, 'page': 3, 'page_label': '4'}, page_content='in tumors, T cell exhaustion, poor in  vivo persistence and immunosuppressive \\nenvironmental factors. Despite significant recent advances, rational design has \\nfailed to overcome the problems associated with such factors.  \\nb. Another approach to identify modifications that improve T cell function in vitro and \\nin vivo, besides rational design, is unbiased screening. For example, the vast \\nmajority of screening efforts, have focused on genome -scale or genome -wide \\nalterations which  modify expression of endogenous wild -type genes via CRISPR -\\nCas9 or short hairpin RNA (shRNA) or cDNA overexpression.  \\nc. Chimeric antigen receptors (CARs) are synthetic receptors that include an antigen \\nspecific extracellular single chain variable fragment (scFv) attached to a flexible'),\n",
       " Document(metadata={'producer': 'Microsoft® Word for Microsoft 365', 'creator': 'Microsoft® Word for Microsoft 365', 'creationdate': '2025-02-23T04:20:41-05:00', 'author': 'Zoey Le', 'moddate': '2025-02-23T04:20:41-05:00', 'source': '../app/pdfs\\\\bio_chemistry.pdf', 'total_pages': 5, 'page': 3, 'page_label': '4'}, page_content=\"linker (hinge) region, transmembrane domain, and intracellular signaling domains. \\nThe intracellular portion of the receptor consists of T cell signaling domains such as \\n41BB, CD28 and CD3zeta, designed to mimic T cell receptor (TCR) stimulation and \\nthe immunological synapse upon engagement with the antigen specified by the \\nscFv. CAR constructs do not require antigen presentation by MHC molecules, and \\ntherefore have been used to effectively redirect a patient's own T cells against a \\ntumor specific cell surface antigen. To date, five CD19 targeted CAR -T cell therapies \\nhave been approved by the FDA  for use against hematological B cell cancers. While\"),\n",
       " Document(metadata={'producer': 'Microsoft® Word for Microsoft 365', 'creator': 'Microsoft® Word for Microsoft 365', 'creationdate': '2025-02-23T04:20:41-05:00', 'author': 'Zoey Le', 'moddate': '2025-02-23T04:20:41-05:00', 'source': '../app/pdfs\\\\bio_chemistry.pdf', 'total_pages': 5, 'page': 4, 'page_label': '5'}, page_content='these therapies have proven highly effective in refractory B cell malignancies, CAR -T \\ncell therapies have yet to provide robust, long -term efficacy against solid tumors. In \\nthe solid tumor setting, CAR -T cells can become exhausted and struggle to \\nproliferate and perform effector function, ultimately resulting in the inability to \\ncontrol tumor growth or prevent relapse. Therefore, to create effective targeted \\ncellular therapies against solid tumors the proliferative capacity, persistence and \\neffector functio n of CAR-T cells needs to be improved.  \\nd. An avenue under investigation is genetically modifying CAR -T cells to improve their \\nfunctionality in solid tumors. A recent case study described a chronic lymphocytic'),\n",
       " Document(metadata={'producer': 'Microsoft® Word for Microsoft 365', 'creator': 'Microsoft® Word for Microsoft 365', 'creationdate': '2025-02-23T04:20:41-05:00', 'author': 'Zoey Le', 'moddate': '2025-02-23T04:20:41-05:00', 'source': '../app/pdfs\\\\bio_chemistry.pdf', 'total_pages': 5, 'page': 4, 'page_label': '5'}, page_content=\"leukemia (CLL) patient who experienced a delayed yet complete response after \\ntreatment wi th a CD19 CAR -T cell therapy. It was later discovered that, within a \\nsingle T cell clone, the CD19 CAR cassette had integrated into the one allele of TET2, \\na known T cell lymphoma tumor suppressor, rendering it nonfunctional. \\nInterestingly, the second TET2  allele of this patient was also mutated, resulting in a \\nlack of function of TET2 in the CD19 CAR -T cells dosed to this patient. This single \\nTET2 knockout CAR -T cell clone exhibited altered T cell differentiation and improved \\noverall effector function. Ult imately, this clone expanded to become a majority of \\nthe CAR-T cell population, and mediated a complete response against the patient's\"),\n",
       " Document(metadata={'producer': 'Microsoft® Word for Microsoft 365', 'creator': 'Microsoft® Word for Microsoft 365', 'creationdate': '2025-02-23T04:20:41-05:00', 'author': 'Zoey Le', 'moddate': '2025-02-23T04:20:41-05:00', 'source': '../app/pdfs\\\\bio_chemistry.pdf', 'total_pages': 5, 'page': 4, 'page_label': '5'}, page_content='relapsed CLL. In a second example, a similar complete response was mediated in a \\npatient when the CD22 CAR cassette integ rated into the T cell lymphoma tumor \\nsuppressor CBL. These case studies demonstrate that genetic knockout of T cell \\nlymphoma tumor suppressors, such as TET2 and CBL, can have remarkable \\nbeneficial effects on CAR -T cell therapies. In preclinical studies, ge nome wide \\nknockout assays have revealed genes, such as REGNASE, that upon knockout \\nimprove T cell fitness and anti -tumor efficacy in vivo. Additionally, other studies \\nhave found that the knockout of genes related to T cell exhaustion and memory \\nformation, such as the NR4A family of genes, can result in improved and prolonged \\nCAR-T cell response to tumors.'),\n",
       " Document(metadata={'producer': 'Microsoft® Word for Microsoft 365', 'creator': 'Microsoft® Word for Microsoft 365', 'creationdate': '2025-02-23T04:20:41-05:00', 'author': 'Zoey Le', 'moddate': '2025-02-23T04:20:41-05:00', 'source': '../app/pdfs\\\\bio_chemistry.pdf', 'total_pages': 5, 'page': 4, 'page_label': '5'}, page_content='e. While these examples indicate that CAR -T cell functionality can be improved \\nthrough genetic manipulation, particularly through manipulation of tumor \\nsuppressor genes, these studies are often extremely broad in their scope (examining \\nthe entire genome) and focus solely on the effect of constitutive genetic knockouts. \\nSomatic single nucleotide variant (SSNV) mutations, translocations and gene \\ndeletions that naturally arise in cancers offer biologically rational candidates for \\ngenetic manipulation alongside CA R expression.  \\nf. There remains a need in the art for alternative solutions to address the significant \\nunmet need for effective adoptive T cell therapies and for enhancing engineered T \\ncell fitness.')]"
      ]
     },
     "execution_count": 22,
     "metadata": {},
     "output_type": "execute_result"
    }
   ],
   "source": [
    "# inspect a chunk\n",
    "chunked_docs"
   ]
  },
  {
   "cell_type": "code",
   "execution_count": 23,
   "metadata": {},
   "outputs": [
    {
     "name": "stderr",
     "output_type": "stream",
     "text": [
      "C:\\Users\\zoeyl\\AppData\\Local\\Temp\\ipykernel_19324\\2070368142.py:5: LangChainDeprecationWarning: The class `HuggingFaceEmbeddings` was deprecated in LangChain 0.2.2 and will be removed in 1.0. An updated version of the class exists in the :class:`~langchain-huggingface package and should be used instead. To use it run `pip install -U :class:`~langchain-huggingface` and import as `from :class:`~langchain_huggingface import HuggingFaceEmbeddings``.\n",
      "  db = FAISS.from_documents(chunked_docs, HuggingFaceEmbeddings(model_name=\"BAAI/bge-base-en-v1.5\"))\n",
      "c:\\Users\\zoeyl\\repo\\patentAI\\.venv\\Lib\\site-packages\\sentence_transformers\\cross_encoder\\CrossEncoder.py:13: TqdmWarning: IProgress not found. Please update jupyter and ipywidgets. See https://ipywidgets.readthedocs.io/en/stable/user_install.html\n",
      "  from tqdm.autonotebook import tqdm, trange\n"
     ]
    }
   ],
   "source": [
    "from langchain.vectorstores import FAISS\n",
    "from langchain.embeddings import HuggingFaceEmbeddings\n",
    "\n",
    "# initialize vectorstore with FAISS and HuggingFace embeddings\n",
    "db = FAISS.from_documents(chunked_docs, HuggingFaceEmbeddings(model_name=\"BAAI/bge-base-en-v1.5\"))"
   ]
  },
  {
   "cell_type": "code",
   "execution_count": 25,
   "metadata": {},
   "outputs": [],
   "source": [
    "# create a retriever using the vectorstore\n",
    "retriever = db.as_retriever(search_type=\"similarity\", search_kwargs={\"k\": 1})"
   ]
  },
  {
   "cell_type": "code",
   "execution_count": 26,
   "metadata": {},
   "outputs": [
    {
     "name": "stdout",
     "output_type": "stream",
     "text": [
      "1\n",
      "[Document(id='fb0c6920-6155-4eff-ba49-8561ae7af9fe', metadata={'producer': 'Microsoft® Word for Microsoft 365', 'creator': 'Microsoft® Word for Microsoft 365', 'creationdate': '2025-02-23T04:20:41-05:00', 'author': 'Zoey Le', 'moddate': '2025-02-23T04:20:41-05:00', 'source': '../app/pdfs\\\\bio_chemistry.pdf', 'total_pages': 5, 'page': 3, 'page_label': '4'}, page_content='COMPOSITIONS AND METHODS FOR ENHANCING ADOPTIVE T CELL THERAPEUTICS  \\n1. Document ID : US 20240270802 A1  \\n2. Date Published : 2024-08-15 \\n3. Inventor Information  \\na. ROYBAL; Kole  \\nb. GARCIA; Julie  \\nc. ZHU; Iowis  \\nd. CHOI; Jaehyuk  \\ne. DANIELS; Jay  \\n4. Abstract: The present disclosure relates generally to compositions and methods for \\nimproving T cell therapy. In particular, the disclosure provides polypeptides and \\nrecombinant nucleic acid constructs and/or recombinant nucleic acids encoding \\npolypeptides having mut ations capable of altering T cell signaling, cytokine production, \\nand/or in vivo persistence in tumors of therapeutic T cells comprising the mutation. The T \\ncell signaling can be by NFAT, NF -κB and/or AP -1 pathways. The disclosure also provides')]\n"
     ]
    }
   ],
   "source": [
    "# test the retriever\n",
    "test = retriever.invoke('Paleo Breakfast')\n",
    "print(len(test))\n",
    "\n",
    "print(test)"
   ]
  },
  {
   "cell_type": "code",
   "execution_count": 27,
   "metadata": {},
   "outputs": [],
   "source": [
    "import torch\n",
    "from transformers import AutoTokenizer, AutoModelForCausalLM, BitsAndBytesConfig\n",
    "\n",
    "model_name =\"TinyLlama/TinyLlama-1.1B-Chat-v1.0\"\n",
    "\n",
    "save_directory = \"model_directory\"\n",
    "\n",
    "# directly load model since we saved it in the previous notebook\n",
    "model = AutoModelForCausalLM.from_pretrained(save_directory)\n",
    "tokenizer = AutoTokenizer.from_pretrained(save_directory)"
   ]
  },
  {
   "cell_type": "code",
   "execution_count": 28,
   "metadata": {},
   "outputs": [
    {
     "name": "stderr",
     "output_type": "stream",
     "text": [
      "C:\\Users\\zoeyl\\AppData\\Local\\Temp\\ipykernel_19324\\2073497817.py:18: LangChainDeprecationWarning: The class `HuggingFacePipeline` was deprecated in LangChain 0.0.37 and will be removed in 1.0. An updated version of the class exists in the :class:`~langchain-huggingface package and should be used instead. To use it run `pip install -U :class:`~langchain-huggingface` and import as `from :class:`~langchain_huggingface import HuggingFacePipeline``.\n",
      "  llm = HuggingFacePipeline(pipeline=text_generation_pipeline)\n"
     ]
    }
   ],
   "source": [
    "from langchain.llms import HuggingFacePipeline\n",
    "from langchain.prompts import PromptTemplate\n",
    "from transformers import pipeline\n",
    "from langchain_core.output_parsers import StrOutputParser\n",
    "\n",
    "# create a text generation pipeline\n",
    "text_generation_pipeline = pipeline(\n",
    "    model=model,\n",
    "    tokenizer=tokenizer,\n",
    "    task=\"text-generation\",\n",
    "    temperature=0.2,\n",
    "    do_sample=True,\n",
    "    repetition_penalty=1.1,\n",
    "    return_full_text=True,\n",
    "    max_new_tokens=400,\n",
    ")\n",
    "\n",
    "llm = HuggingFacePipeline(pipeline=text_generation_pipeline)\n",
    "\n",
    "prompt_template = \"\"\"\n",
    "<|system|>\n",
    "Answer the question based on your knowledge. Use the following context to help:\n",
    "\n",
    "{context}\n",
    "\n",
    "</s>\n",
    "<|user|>\n",
    "{question}\n",
    "</s>\n",
    "<|assistant|>\n",
    "\n",
    " \"\"\"\n",
    "\n",
    "prompt = PromptTemplate(\n",
    "    input_variables=[\"context\", \"question\"],\n",
    "    template=prompt_template,\n",
    ")\n",
    "\n",
    "llm_chain = prompt | llm | StrOutputParser()"
   ]
  },
  {
   "cell_type": "code",
   "execution_count": 29,
   "metadata": {},
   "outputs": [],
   "source": [
    "from langchain_core.runnables import RunnablePassthrough\n",
    "\n",
    "# extend llm chain with RAG\n",
    "rag_chain = {\"context\": retriever, \"question\": RunnablePassthrough()} | llm_chain"
   ]
  },
  {
   "cell_type": "code",
   "execution_count": 30,
   "metadata": {},
   "outputs": [],
   "source": [
    "question = \"What are some patents related to biochemistry?\""
   ]
  },
  {
   "cell_type": "code",
   "execution_count": 31,
   "metadata": {},
   "outputs": [
    {
     "name": "stderr",
     "output_type": "stream",
     "text": [
      "Starting from v4.46, the `logits` model output will have the same type as the model (except at train time, where it will always be FP32)\n"
     ]
    },
    {
     "data": {
      "text/plain": [
       "'\\n<|system|>\\nAnswer the question based on your knowledge. Use the following context to help:\\n\\n\\n\\n</s>\\n<|user|>\\nWhat are some patents related to biochemistry?\\n</s>\\n<|assistant|>\\n\\n 1. The discovery of DNA and its role in genetics, which led to the development of modern genetic research techniques such as sequencing and gene therapy.\\n\\n 2. The development of recombinant DNA technology, which allowed for the creation of genetically modified organisms (GMOs) with desirable traits.\\n\\n 3. The identification of enzymes involved in metabolic pathways, which has led to the development of new drugs and treatments for a wide range of diseases.\\n\\n 4. The discovery of proteins, which play crucial roles in cellular function and disease. For example, proteins involved in immune response, inflammation, and cancer have been the subject of extensive research.\\n\\n 5. The development of new methods for studying biological systems at the molecular level, including microscopy techniques like confocal laser scanning microscopy and single-molecule spectroscopy.\\n\\n 6. The study of cell signaling, which involves understanding how cells communicate with each other to regulate their behavior. This has led to the development of new drugs for treating neurological disorders and cancer.\\n\\n 7. The development of new tools for studying the structure and function of biomolecules, such as X-ray crystallography and NMR spectroscopy.\\n\\n 8. The study of enzyme catalysis, which involves understanding how enzymes work and how they can be optimized for specific applications.\\n\\n 9. The development of new technologies for synthesizing biologically active compounds, such as peptide synthesis and protein engineering.\\n\\n 10. The study of the interactions between biological molecules, including the development of new methods for measuring these interactions using fluorescent probes and imaging techniques.'"
      ]
     },
     "execution_count": 31,
     "metadata": {},
     "output_type": "execute_result"
    }
   ],
   "source": [
    "# invoke LLM chain for baseline response\n",
    "result = llm_chain.invoke({\"context\": \"\", \"question\": question})\n",
    "\n",
    "result"
   ]
  },
  {
   "cell_type": "code",
   "execution_count": 32,
   "metadata": {},
   "outputs": [
    {
     "data": {
      "text/plain": [
       "'\\n<|system|>\\nAnswer the question based on your knowledge. Use the following context to help:\\n\\n[Document(id=\\'fb0c6920-6155-4eff-ba49-8561ae7af9fe\\', metadata={\\'producer\\': \\'Microsoft® Word for Microsoft 365\\', \\'creator\\': \\'Microsoft® Word for Microsoft 365\\', \\'creationdate\\': \\'2025-02-23T04:20:41-05:00\\', \\'author\\': \\'Zoey Le\\', \\'moddate\\': \\'2025-02-23T04:20:41-05:00\\', \\'source\\': \\'../app/pdfs\\\\\\\\bio_chemistry.pdf\\', \\'total_pages\\': 5, \\'page\\': 3, \\'page_label\\': \\'4\\'}, page_content=\\'COMPOSITIONS AND METHODS FOR ENHANCING ADOPTIVE T CELL THERAPEUTICS  \\\\n1. Document ID : US 20240270802 A1  \\\\n2. Date Published : 2024-08-15 \\\\n3. Inventor Information  \\\\na. ROYBAL; Kole  \\\\nb. GARCIA; Julie  \\\\nc. ZHU; Iowis  \\\\nd. CHOI; Jaehyuk  \\\\ne. DANIELS; Jay  \\\\n4. Abstract: The present disclosure relates generally to compositions and methods for \\\\nimproving T cell therapy. In particular, the disclosure provides polypeptides and \\\\nrecombinant nucleic acid constructs and/or recombinant nucleic acids encoding \\\\npolypeptides having mut ations capable of altering T cell signaling, cytokine production, \\\\nand/or in vivo persistence in tumors of therapeutic T cells comprising the mutation. The T \\\\ncell signaling can be by NFAT, NF -κB and/or AP -1 pathways. The disclosure also provides\\')]\\n\\n</s>\\n<|user|>\\nWhat are some patents related to biochemistry?\\n</s>\\n<|assistant|>\\n\\n 1. US Patent No. 5,202,780: \"Method for the treatment of cancer\" by David W. Cohen et al.\\n 2. US Patent No. 5,175,831: \"Compositions and methods for enhancing antitumor immunity\" by John R. Huffman et al.\\n 3. US Patent No. 5,161,617: \"Immunotherapeutic compositions and methods for treating cancer\" by William L. Brenner et al.\\n 4. US Patent No. 5,135,962: \"Anti-tumor immune response enhancement\" by Robert E. Fleming et al.\\n 5. US Patent No. 5,124,309: \"Anti-tumor immune response enhancement\" by Robert E. Fleming et al.\\n 6. US Patent No. 5,116,435: \"Anti-tumor immune response enhancement\" by Robert E. Fleming et al.\\n 7. US Patent No. 5,109,496: \"Methods and compositions for enhancing anti-tumor immunity\" by Robert E. Fleming et al.\\n 8. US Patent No. 5,106,620: \"Anti-tumor immune response enhancement\" by Robert E. Fleming et al.\\n 9. US Patent No. 5,092,397: \"Anti-tumor immune response enhancement\" by Robert E. Fleming et al.\\n 10. US Patent No.'"
      ]
     },
     "execution_count": 32,
     "metadata": {},
     "output_type": "execute_result"
    }
   ],
   "source": [
    "# invoke RAG chain for response based on knowledge base\n",
    "result = rag_chain.invoke(question)\n",
    "\n",
    "result"
   ]
  },
  {
   "cell_type": "code",
   "execution_count": 33,
   "metadata": {},
   "outputs": [
    {
     "name": "stdout",
     "output_type": "stream",
     "text": [
      "('\\n'\n",
      " '<|system|>\\n'\n",
      " 'Answer the question based on your knowledge. Use the following context to '\n",
      " 'help:\\n'\n",
      " '\\n'\n",
      " \"[Document(id='fb0c6920-6155-4eff-ba49-8561ae7af9fe', metadata={'producer': \"\n",
      " \"'Microsoft® Word for Microsoft 365', 'creator': 'Microsoft® Word for \"\n",
      " \"Microsoft 365', 'creationdate': '2025-02-23T04:20:41-05:00', 'author': 'Zoey \"\n",
      " \"Le', 'moddate': '2025-02-23T04:20:41-05:00', 'source': \"\n",
      " \"'../app/pdfs\\\\\\\\bio_chemistry.pdf', 'total_pages': 5, 'page': 3, \"\n",
      " \"'page_label': '4'}, page_content='COMPOSITIONS AND METHODS FOR ENHANCING \"\n",
      " 'ADOPTIVE T CELL THERAPEUTICS  \\\\n1. Document ID : US 20240270802 A1  \\\\n2. '\n",
      " 'Date Published : 2024-08-15 \\\\n3. Inventor Information  \\\\na. ROYBAL; Kole  '\n",
      " '\\\\nb. GARCIA; Julie  \\\\nc. ZHU; Iowis  \\\\nd. CHOI; Jaehyuk  \\\\ne. DANIELS; '\n",
      " 'Jay  \\\\n4. Abstract: The present disclosure relates generally to '\n",
      " 'compositions and methods for \\\\nimproving T cell therapy. In particular, the '\n",
      " 'disclosure provides polypeptides and \\\\nrecombinant nucleic acid constructs '\n",
      " 'and/or recombinant nucleic acids encoding \\\\npolypeptides having mut ations '\n",
      " 'capable of altering T cell signaling, cytokine production, \\\\nand/or in vivo '\n",
      " 'persistence in tumors of therapeutic T cells comprising the mutation. The T '\n",
      " '\\\\ncell signaling can be by NFAT, NF -κB and/or AP -1 pathways. The '\n",
      " \"disclosure also provides')]\\n\"\n",
      " '\\n'\n",
      " '</s>\\n'\n",
      " '<|user|>\\n'\n",
      " 'What are some patents related to biochemistry?\\n'\n",
      " '</s>\\n'\n",
      " '<|assistant|>\\n'\n",
      " '\\n'\n",
      " ' 1. US Patent No. 5,202,780: \"Method for the treatment of cancer\" by David '\n",
      " 'W. Cohen et al.\\n'\n",
      " ' 2. US Patent No. 5,175,831: \"Compositions and methods for enhancing '\n",
      " 'antitumor immunity\" by John R. Huffman et al.\\n'\n",
      " ' 3. US Patent No. 5,161,617: \"Immunotherapeutic compositions and methods for '\n",
      " 'treating cancer\" by William L. Brenner et al.\\n'\n",
      " ' 4. US Patent No. 5,135,962: \"Anti-tumor immune response enhancement\" by '\n",
      " 'Robert E. Fleming et al.\\n'\n",
      " ' 5. US Patent No. 5,124,309: \"Anti-tumor immune response enhancement\" by '\n",
      " 'Robert E. Fleming et al.\\n'\n",
      " ' 6. US Patent No. 5,116,435: \"Anti-tumor immune response enhancement\" by '\n",
      " 'Robert E. Fleming et al.\\n'\n",
      " ' 7. US Patent No. 5,109,496: \"Methods and compositions for enhancing '\n",
      " 'anti-tumor immunity\" by Robert E. Fleming et al.\\n'\n",
      " ' 8. US Patent No. 5,106,620: \"Anti-tumor immune response enhancement\" by '\n",
      " 'Robert E. Fleming et al.\\n'\n",
      " ' 9. US Patent No. 5,092,397: \"Anti-tumor immune response enhancement\" by '\n",
      " 'Robert E. Fleming et al.\\n'\n",
      " ' 10. US Patent No.')\n"
     ]
    }
   ],
   "source": [
    "from pprint import pprint\n",
    "\n",
    "pprint(result)"
   ]
  }
 ],
 "metadata": {
  "kernelspec": {
   "display_name": ".venv",
   "language": "python",
   "name": "python3"
  },
  "language_info": {
   "codemirror_mode": {
    "name": "ipython",
    "version": 3
   },
   "file_extension": ".py",
   "mimetype": "text/x-python",
   "name": "python",
   "nbconvert_exporter": "python",
   "pygments_lexer": "ipython3",
   "version": "3.12.3"
  }
 },
 "nbformat": 4,
 "nbformat_minor": 2
}
